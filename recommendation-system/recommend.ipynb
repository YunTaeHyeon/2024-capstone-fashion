{
 "cells": [
  {
   "cell_type": "code",
   "execution_count": 15,
   "id": "ce2f4ad0",
   "metadata": {
    "ExecuteTime": {
     "end_time": "2024-03-30T11:47:47.911277Z",
     "start_time": "2024-03-30T11:47:47.906721Z"
    }
   },
   "outputs": [
    {
     "name": "stdout",
     "output_type": "stream",
     "text": [
      "[[2 4 0]]\n"
     ]
    }
   ],
   "source": [
    "import numpy as np\n",
    "import joblib\n",
    "import sys\n",
    "\n",
    "# 추천 함수 정의\n",
    "def category_recommend(user_data):\n",
    "    # 저장된 모델 로드\n",
    "    knn_category_model = joblib.load('knn_category_model.pkl')\n",
    "\n",
    "    # 입력 데이터를 이용하여 가장 유사한 이웃들을 찾음\n",
    "    distances, indices = knn_category_model.kneighbors([user_data])\n",
    "    \n",
    "    return indices\n",
    "    \n",
    "if __name__ == \"__main__\":\n",
    "    # 스크립트를 실행할 때 전달된 인자 가져오기\n",
    "    # python3 recommend_category.py 1.0 1.0 0.0 0.0 0.0 이런식으로   \n",
    "        \n",
    "    user_data = [float(pref) for pref in sys.argv[2:]]\n",
    "    #['recommend_category.py', '1.0', '1.0', '0.0', '0.0', '0.0']인데 1.0은 id니까 이후 점수부터\n",
    "    \n",
    "    # 추천 함수 호출\n",
    "    similar_people = category_recommend(user_data)\n",
    "    \n",
    "    print(sys.argv[1])\n",
    "\n",
    "#이후 스프링에서 similar_people을 검색 -> 이 사람들의 행적을 분석(같은 카테고리의 취향을 가졌다면 비슷한 게시물을 볼 것이기 떄문)\n",
    "# 이 추천으로도 보여주고 롱테일 문제를 해결하기 위해 일부 게시물은 랜덤으로 보여줄 수도 있음"
   ]
  },
  {
   "cell_type": "code",
   "execution_count": null,
   "id": "6a333f5e",
   "metadata": {},
   "outputs": [],
   "source": []
  }
 ],
 "metadata": {
  "kernelspec": {
   "display_name": "Python 3 (ipykernel)",
   "language": "python",
   "name": "python3"
  },
  "language_info": {
   "codemirror_mode": {
    "name": "ipython",
    "version": 3
   },
   "file_extension": ".py",
   "mimetype": "text/x-python",
   "name": "python",
   "nbconvert_exporter": "python",
   "pygments_lexer": "ipython3",
   "version": "3.9.13"
  }
 },
 "nbformat": 4,
 "nbformat_minor": 5
}
