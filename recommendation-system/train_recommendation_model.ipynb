{
 "cells": [
  {
   "cell_type": "code",
   "execution_count": 2,
   "id": "18160b87",
   "metadata": {
    "ExecuteTime": {
     "end_time": "2024-03-30T10:46:33.680900Z",
     "start_time": "2024-03-30T10:46:33.047791Z"
    }
   },
   "outputs": [
    {
     "ename": "FileNotFoundError",
     "evalue": "[Errno 2] No such file or directory: '/home/32190165/server'",
     "output_type": "error",
     "traceback": [
      "\u001B[0;31m---------------------------------------------------------------------------\u001B[0m",
      "\u001B[0;31mFileNotFoundError\u001B[0m                         Traceback (most recent call last)",
      "Input \u001B[0;32mIn [2]\u001B[0m, in \u001B[0;36m<cell line: 30>\u001B[0;34m()\u001B[0m\n\u001B[1;32m     27\u001B[0m     \u001B[38;5;28;01mreturn\u001B[39;00m latest_file\n\u001B[1;32m     29\u001B[0m \u001B[38;5;66;03m# 가장 최신의 파일 찾기\u001B[39;00m\n\u001B[0;32m---> 30\u001B[0m latest_file \u001B[38;5;241m=\u001B[39m \u001B[43mfind_latest_file\u001B[49m\u001B[43m(\u001B[49m\u001B[43mdata_dir\u001B[49m\u001B[43m)\u001B[49m\n\u001B[1;32m     32\u001B[0m \u001B[38;5;28;01mif\u001B[39;00m latest_file:\n\u001B[1;32m     33\u001B[0m     \u001B[38;5;28mprint\u001B[39m(\u001B[38;5;124m\"\u001B[39m\u001B[38;5;124m가장 최신의 파일:\u001B[39m\u001B[38;5;124m\"\u001B[39m, latest_file)\n",
      "Input \u001B[0;32mIn [2]\u001B[0m, in \u001B[0;36mfind_latest_file\u001B[0;34m(directory)\u001B[0m\n\u001B[1;32m     22\u001B[0m \u001B[38;5;28;01mdef\u001B[39;00m \u001B[38;5;21mfind_latest_file\u001B[39m(directory):\n\u001B[0;32m---> 23\u001B[0m     files \u001B[38;5;241m=\u001B[39m \u001B[43mos\u001B[49m\u001B[38;5;241;43m.\u001B[39;49m\u001B[43mlistdir\u001B[49m\u001B[43m(\u001B[49m\u001B[43mdirectory\u001B[49m\u001B[43m)\u001B[49m\n\u001B[1;32m     24\u001B[0m     csv_files \u001B[38;5;241m=\u001B[39m [file \u001B[38;5;28;01mfor\u001B[39;00m file \u001B[38;5;129;01min\u001B[39;00m files \u001B[38;5;28;01mif\u001B[39;00m file\u001B[38;5;241m.\u001B[39mendswith(\u001B[38;5;124m\"\u001B[39m\u001B[38;5;124m.csv\u001B[39m\u001B[38;5;124m\"\u001B[39m)]\n\u001B[1;32m     25\u001B[0m     dated_files \u001B[38;5;241m=\u001B[39m [(file, extract_date(file)) \u001B[38;5;28;01mfor\u001B[39;00m file \u001B[38;5;129;01min\u001B[39;00m csv_files \u001B[38;5;28;01mif\u001B[39;00m extract_date(file)]\n",
      "\u001B[0;31mFileNotFoundError\u001B[0m: [Errno 2] No such file or directory: '/home/32190165/server'"
     ]
    }
   ],
   "source": [
    "import pandas as pd\n",
    "import numpy as np\n",
    "from sklearn.neighbors import NearestNeighbors\n",
    "import joblib\n",
    "import os\n",
    "import re\n",
    "from datetime import datetime\n",
    "\n",
    "# 데이터 디렉토리\n",
    "data_dir = '/'\n",
    "\n",
    "# 파일 이름에서 날짜 추출\n",
    "def extract_date(filename):\n",
    "    date_pattern = r\"user_category_scores_(\\d{4}-\\d{2}-\\d{2}).csv\"\n",
    "    match = re.search(date_pattern, filename)\n",
    "    if match:\n",
    "        return datetime.strptime(match.group(1), \"%Y-%m-%d\")\n",
    "    else:\n",
    "        return None\n",
    "\n",
    "# 가장 최신 파일 선택\n",
    "def find_latest_file(directory):\n",
    "    files = os.listdir(directory)\n",
    "    csv_files = [file for file in files if file.endswith(\".csv\")]\n",
    "    dated_files = [(file, extract_date(file)) for file in csv_files if extract_date(file)]\n",
    "    latest_file = max(dated_files, key=lambda x: x[1])[0] if dated_files else None\n",
    "    return latest_file\n",
    "\n",
    "# 가장 최신의 파일 찾기\n",
    "latest_file = find_latest_file(data_dir)\n",
    "\n",
    "if latest_file:\n",
    "    print(\"가장 최신의 파일:\", latest_file)\n",
    "else:\n",
    "    print(\"CSV 파일이 존재하지 않습니다.\")\n",
    "\n",
    "# CSV 파일 로드하여 numpy 배열로 변환 (첫 번째 열 제외 Id니까)\n",
    "user_item_matrix = pd.read_csv(os.path.join(data_dir, latest_file)).iloc[:, 1:].values\n",
    "\n",
    "# 모델 학습\n",
    "k = 1 #비슷한 사람을 몇명 추출할 것인가\n",
    "knn_model = NearestNeighbors(n_neighbors=k, metric='cosine')\n",
    "knn_model.fit(user_item_matrix)\n",
    "\n",
    "# 모델 저장\n",
    "joblib.dump(knn_model, 'knn_category_model.pkl')"
   ]
  },
  {
   "cell_type": "code",
   "execution_count": null,
   "id": "da8f6233",
   "metadata": {},
   "outputs": [],
   "source": []
  }
 ],
 "metadata": {
  "kernelspec": {
   "display_name": "Python 3 (ipykernel)",
   "language": "python",
   "name": "python3"
  },
  "language_info": {
   "codemirror_mode": {
    "name": "ipython",
    "version": 3
   },
   "file_extension": ".py",
   "mimetype": "text/x-python",
   "name": "python",
   "nbconvert_exporter": "python",
   "pygments_lexer": "ipython3",
   "version": "3.9.13"
  }
 },
 "nbformat": 4,
 "nbformat_minor": 5
}
